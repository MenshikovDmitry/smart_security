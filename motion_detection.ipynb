{
 "cells": [
  {
   "cell_type": "code",
   "execution_count": 7,
   "metadata": {},
   "outputs": [],
   "source": [
    "import cv2\n",
    "import numpy as np\n",
    "\n",
    "class Motion_Detector(object):\n",
    "    def __init__(self,frame_latency):\n",
    "        self.l=frame_latency\n",
    "        self.frames=[]\n",
    "        self.score=0\n",
    "        \n",
    "    def process_frame(self,frame):\n",
    "        self.frames.append(frame)\n",
    "        if len(self.frames)<=self.l:\n",
    "            return frame\n",
    "        else:\n",
    "            dst=self.frames.pop(0).astype('int16')-frame.astype('int16')\n",
    "            dst=(np.absolute(dst)).astype('uint8')\n",
    "            \n",
    "            #motion score\n",
    "            self.score=round(dst.mean(axis=2).max(axis=1).max())\n",
    "            return np.hstack([frame,dst])"
   ]
  },
  {
   "cell_type": "code",
   "execution_count": 5,
   "metadata": {},
   "outputs": [],
   "source": [
    "m=Motion_Detector(3)"
   ]
  },
  {
   "cell_type": "code",
   "execution_count": 8,
   "metadata": {},
   "outputs": [],
   "source": [
    "#video_capture.release()\n",
    "video_capture = cv2.VideoCapture(0) # default USB web camera\n",
    "\n",
    "while True:\n",
    "    # Capture frame-by-frame\n",
    "    ret, frame = video_capture.read()\n",
    "\n",
    "    if ret:\n",
    "        frame=m.process_frame(frame)\n",
    "        cv2.imshow('Video', frame)\n",
    "    else:\n",
    "        print(\".\",end=\"\")\n",
    "\n",
    "    if cv2.waitKey(1) & 0xFF == ord('q'):\n",
    "        break\n",
    "\n",
    "# When everything is done, release the capture\n",
    "video_capture.release()\n",
    "cv2.destroyAllWindows()"
   ]
  }
 ],
 "metadata": {
  "kernelspec": {
   "display_name": "Python 3",
   "language": "python",
   "name": "python3"
  },
  "language_info": {
   "codemirror_mode": {
    "name": "ipython",
    "version": 3
   },
   "file_extension": ".py",
   "mimetype": "text/x-python",
   "name": "python",
   "nbconvert_exporter": "python",
   "pygments_lexer": "ipython3",
   "version": "3.7.4"
  }
 },
 "nbformat": 4,
 "nbformat_minor": 4
}
